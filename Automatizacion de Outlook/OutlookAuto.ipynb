{
 "cells": [
  {
   "cell_type": "code",
   "execution_count": 26,
   "metadata": {},
   "outputs": [],
   "source": [
    "'''\n",
    "import time\n",
    "from datetime import datetime\n",
    "from selenium import webdriver\n",
    "from selenium.webdriver.support import expected_conditions as EC\n",
    "from selenium.webdriver.common.by import By\n",
    "from selenium.webdriver.support.wait import WebDriverWait\n",
    "from selenium.webdriver.common.keys import Keys\n",
    "import pyautogui \n",
    "'''\n",
    "import time\n",
    "from selenium import webdriver\n",
    "from selenium.webdriver.common.by import By\n",
    "from selenium.webdriver.common.keys import Keys\n",
    "from selenium.webdriver.chrome.service import Service\n",
    "from selenium.webdriver.support.ui import WebDriverWait\n",
    "from selenium.webdriver.support import expected_conditions as EC\n",
    "import re\n"
   ]
  },
  {
   "cell_type": "markdown",
   "metadata": {},
   "source": [
    "Configuaramos el driver"
   ]
  },
  {
   "cell_type": "code",
   "execution_count": 2,
   "metadata": {},
   "outputs": [],
   "source": [
    "'''# Configurar las opciones de Chrome\n",
    "options = Options()\n",
    "options.add_argument(\"--start-maximized\")\n",
    "\n",
    "# Inicializar el WebDriver\n",
    "driver =  webdriver.Chrome(\"C:\\chromedriver.exe\", chrome_options= options)\n",
    "'''\n",
    "options = webdriver.ChromeOptions()\n",
    "options.add_argument(\"--start-maximized\")\n",
    "\n",
    "# Inicializar el WebDriver\n",
    "service = Service(\"C:/chromedriver.exe\")\n",
    "driver = webdriver.Chrome(service=service, options=options)"
   ]
  },
  {
   "cell_type": "markdown",
   "metadata": {},
   "source": [
    "Ingresamos a Outlook"
   ]
  },
  {
   "cell_type": "code",
   "execution_count": 3,
   "metadata": {},
   "outputs": [],
   "source": [
    "\n",
    "\n",
    "# Abrir Outlook Web App\n",
    "driver.get(\"https://outlook.office.com/mail/inbox/id/AAQkAGU4YTVjOWMyLWZkOGItNDA2MC04M2QxLWEzZDI5YzFmYjdjMQAQALM3bVzvydVIht%2F1Ee34lh4%3D\") \n",
    "\n",
    "# Esperar a que el campo de usuario esté disponible y enviar las credenciale\n",
    "WebDriverWait(driver,10).until(EC.element_to_be_clickable((By.XPATH,'//*[@id=\"i0116\"]'))).send_keys(\"enzo.orozco@atp.gsolutions.com.ar\")\n",
    "WebDriverWait(driver,10).until(EC.element_to_be_clickable((By.XPATH,'//*[@id=\"idSIButton9\"]'))).send_keys(Keys.ENTER)\n",
    "\n",
    "WebDriverWait(driver,10).until(EC.element_to_be_clickable((By.XPATH,'//*[@id=\"i0118\"]'))).send_keys(\"Mat27279\")\n",
    "WebDriverWait(driver,10).until(EC.element_to_be_clickable((By.XPATH,'//*[@id=\"i0118\"]'))).send_keys(Keys.ENTER)\n",
    "\n",
    "# Espera a que el boton este disponible y aprieta para continuar\n",
    "WebDriverWait(driver,10).until(EC.element_to_be_clickable((By.XPATH,'//*[@id=\"idSIButton9\"]'))).send_keys(Keys.ENTER)\n",
    "\n"
   ]
  },
  {
   "cell_type": "markdown",
   "metadata": {},
   "source": [
    "Analizamos la Bandeja de entrada "
   ]
  },
  {
   "cell_type": "code",
   "execution_count": 42,
   "metadata": {},
   "outputs": [
    {
     "name": "stdout",
     "output_type": "stream",
     "text": [
      "Número de correos no leídos:  2\n",
      "Reseteo\n",
      "Correo electrónico extraído: 151901.tb@gmail.com\n"
     ]
    },
    {
     "ename": "TimeoutException",
     "evalue": "Message: \nStacktrace:\n\tGetHandleVerifier [0x00007FF6F8229632+30946]\n\t(No symbol) [0x00007FF6F81DE3C9]\n\t(No symbol) [0x00007FF6F80D6FDA]\n\t(No symbol) [0x00007FF6F812822C]\n\t(No symbol) [0x00007FF6F812850C]\n\t(No symbol) [0x00007FF6F816DCB7]\n\t(No symbol) [0x00007FF6F814CAAF]\n\t(No symbol) [0x00007FF6F816B041]\n\t(No symbol) [0x00007FF6F814C813]\n\t(No symbol) [0x00007FF6F811A6E5]\n\t(No symbol) [0x00007FF6F811B021]\n\tGetHandleVerifier [0x00007FF6F835F83D+1301229]\n\tGetHandleVerifier [0x00007FF6F836BDB7+1351783]\n\tGetHandleVerifier [0x00007FF6F8362A03+1313971]\n\tGetHandleVerifier [0x00007FF6F825DD06+245686]\n\t(No symbol) [0x00007FF6F81E758F]\n\t(No symbol) [0x00007FF6F81E3804]\n\t(No symbol) [0x00007FF6F81E3992]\n\t(No symbol) [0x00007FF6F81DA3EF]\n\tBaseThreadInitThunk [0x00007FFACCE77374+20]\n\tRtlUserThreadStart [0x00007FFACD7BCC91+33]\n",
     "output_type": "error",
     "traceback": [
      "\u001b[1;31m---------------------------------------------------------------------------\u001b[0m",
      "\u001b[1;31mTimeoutException\u001b[0m                          Traceback (most recent call last)",
      "Cell \u001b[1;32mIn[42], line 43\u001b[0m\n\u001b[0;32m     40\u001b[0m     \u001b[38;5;28;01mif\u001b[39;00m corre_text:\n\u001b[0;32m     41\u001b[0m         \u001b[38;5;28mprint\u001b[39m(\u001b[38;5;124mf\u001b[39m\u001b[38;5;124m\"\u001b[39m\u001b[38;5;124mCorreo electrónico extraído: \u001b[39m\u001b[38;5;132;01m{\u001b[39;00mcorre_text\u001b[38;5;132;01m}\u001b[39;00m\u001b[38;5;124m\"\u001b[39m)\n\u001b[1;32m---> 43\u001b[0m     \u001b[43mEnvioCorreo\u001b[49m\u001b[43m(\u001b[49m\u001b[43m)\u001b[49m\n\u001b[0;32m     44\u001b[0m \u001b[38;5;28;01melse\u001b[39;00m:\n\u001b[0;32m     45\u001b[0m     time\u001b[38;5;241m.\u001b[39msleep(\u001b[38;5;241m2\u001b[39m)\n",
      "Cell \u001b[1;32mIn[34], line 19\u001b[0m, in \u001b[0;36mEnvioCorreo\u001b[1;34m()\u001b[0m\n\u001b[0;32m     15\u001b[0m CargaCorreo\u001b[38;5;241m.\u001b[39msend_keys(corre_text)\n\u001b[0;32m     18\u001b[0m \u001b[38;5;66;03m## Carga de asunto\u001b[39;00m\n\u001b[1;32m---> 19\u001b[0m CargaAsunto\u001b[38;5;241m=\u001b[39m \u001b[43mWebDriverWait\u001b[49m\u001b[43m(\u001b[49m\u001b[43mdriver\u001b[49m\u001b[43m,\u001b[49m\u001b[38;5;241;43m10\u001b[39;49m\u001b[43m)\u001b[49m\u001b[38;5;241;43m.\u001b[39;49m\u001b[43muntil\u001b[49m\u001b[43m(\u001b[49m\n\u001b[0;32m     20\u001b[0m \u001b[43m    \u001b[49m\u001b[43mEC\u001b[49m\u001b[38;5;241;43m.\u001b[39;49m\u001b[43melement_to_be_clickable\u001b[49m\u001b[43m(\u001b[49m\u001b[43m(\u001b[49m\u001b[43mBy\u001b[49m\u001b[38;5;241;43m.\u001b[39;49m\u001b[43mXPATH\u001b[49m\u001b[43m,\u001b[49m\u001b[38;5;124;43m'\u001b[39;49m\u001b[38;5;124;43m//*[@id=\u001b[39;49m\u001b[38;5;124;43m\"\u001b[39;49m\u001b[38;5;124;43mTextField320\u001b[39;49m\u001b[38;5;124;43m\"\u001b[39;49m\u001b[38;5;124;43m]\u001b[39;49m\u001b[38;5;124;43m'\u001b[39;49m\u001b[43m)\u001b[49m\u001b[43m)\u001b[49m\n\u001b[0;32m     21\u001b[0m \n\u001b[0;32m     22\u001b[0m \u001b[43m\u001b[49m\u001b[43m)\u001b[49m\n\u001b[0;32m     23\u001b[0m CargaAsunto\u001b[38;5;241m.\u001b[39msend_keys(\u001b[38;5;124m\"\u001b[39m\u001b[38;5;124mProbando Selenium\u001b[39m\u001b[38;5;124m\"\u001b[39m)\n\u001b[0;32m     26\u001b[0m \u001b[38;5;66;03m## Carga de texto\u001b[39;00m\n",
      "File \u001b[1;32m~\\AppData\\Local\\Packages\\PythonSoftwareFoundation.Python.3.11_qbz5n2kfra8p0\\LocalCache\\local-packages\\Python311\\site-packages\\selenium\\webdriver\\support\\wait.py:105\u001b[0m, in \u001b[0;36mWebDriverWait.until\u001b[1;34m(self, method, message)\u001b[0m\n\u001b[0;32m    103\u001b[0m     \u001b[38;5;28;01mif\u001b[39;00m time\u001b[38;5;241m.\u001b[39mmonotonic() \u001b[38;5;241m>\u001b[39m end_time:\n\u001b[0;32m    104\u001b[0m         \u001b[38;5;28;01mbreak\u001b[39;00m\n\u001b[1;32m--> 105\u001b[0m \u001b[38;5;28;01mraise\u001b[39;00m TimeoutException(message, screen, stacktrace)\n",
      "\u001b[1;31mTimeoutException\u001b[0m: Message: \nStacktrace:\n\tGetHandleVerifier [0x00007FF6F8229632+30946]\n\t(No symbol) [0x00007FF6F81DE3C9]\n\t(No symbol) [0x00007FF6F80D6FDA]\n\t(No symbol) [0x00007FF6F812822C]\n\t(No symbol) [0x00007FF6F812850C]\n\t(No symbol) [0x00007FF6F816DCB7]\n\t(No symbol) [0x00007FF6F814CAAF]\n\t(No symbol) [0x00007FF6F816B041]\n\t(No symbol) [0x00007FF6F814C813]\n\t(No symbol) [0x00007FF6F811A6E5]\n\t(No symbol) [0x00007FF6F811B021]\n\tGetHandleVerifier [0x00007FF6F835F83D+1301229]\n\tGetHandleVerifier [0x00007FF6F836BDB7+1351783]\n\tGetHandleVerifier [0x00007FF6F8362A03+1313971]\n\tGetHandleVerifier [0x00007FF6F825DD06+245686]\n\t(No symbol) [0x00007FF6F81E758F]\n\t(No symbol) [0x00007FF6F81E3804]\n\t(No symbol) [0x00007FF6F81E3992]\n\t(No symbol) [0x00007FF6F81DA3EF]\n\tBaseThreadInitThunk [0x00007FFACCE77374+20]\n\tRtlUserThreadStart [0x00007FFACD7BCC91+33]\n"
     ]
    }
   ],
   "source": [
    "time.sleep(2)\n",
    "BottonFiltrar = WebDriverWait(driver,10).until(\n",
    "    EC.element_to_be_clickable((By.ID,\"mailListFilterMenu\"))\n",
    ")\n",
    "time.sleep(1)\n",
    "BottonFiltrar.click()\n",
    "BottonNoleido = WebDriverWait(driver, 10).until(\n",
    "        EC.presence_of_element_located((By.XPATH, \"//div[@role='menuitemradio' and @aria-checked='false' and .//span[text()='No leído']]\"))\n",
    "    )\n",
    "time.sleep(1)\n",
    "BottonNoleido.click()\n",
    "# Contar los correos no leidos\n",
    "WebDriverWait(driver, 10).until(\n",
    "    EC.presence_of_element_located((By.XPATH, '//div[@role=\"main\"]'))\n",
    ")\n",
    "time.sleep(3)\n",
    "# Buscar correos no leídos \n",
    "no_leidos = driver.find_elements(By.CLASS_NAME, 'S2NDX') #S2NDX\n",
    "print(f'Número de correos no leídos: ', len(no_leidos))\n",
    "\n",
    "\n",
    "# imprimir los asuntos de los correos no leídos\n",
    "Asuntos_mail = driver.find_element(By.CLASS_NAME,'TtcXM').text\n",
    "Asuntos_mail = str(Asuntos_mail)\n",
    "print(Asuntos_mail)\n",
    "AsuntosCuenta = 'Reseteo de claves', 'RESETEO', 'CAMBIO DE CLAVES', 'Cambio de claves', 'Solicitud cambio de claves','Reseteo', 'Reseteo claves'\n",
    "# Comaracion entre los asuntos recibidos y la palabra clave reseteo\n",
    "if Asuntos_mail == 'Reseteo':\n",
    "    time.sleep(3)\n",
    "    # Cliqueamos el correo con el asunto que RESETEO\n",
    "    Correo = WebDriverWait(driver,10).until(\n",
    "        EC.element_to_be_clickable((By.CLASS_NAME, 'TtcXM'))\n",
    "    )\n",
    "    Correo.click()\n",
    "    # Sacamos el correo de la persona que nos envia el mail para realizar una respuesta\n",
    "    CorreoRemitente = WebDriverWait(driver,10).until(\n",
    "        EC.presence_of_element_located((By.CLASS_NAME, 'OZZZK'))\n",
    "    )\n",
    "    CorreoAEnviar = CorreoRemitente.text\n",
    "    correo_electronico = re.search(r'[\\w\\.-]+@[\\w\\.-]+', CorreoAEnviar)\n",
    "    corre_text = correo_electronico.group()\n",
    "    if corre_text:\n",
    "        print(f\"Correo electrónico extraído: {corre_text}\")\n",
    "    \n",
    "    \n",
    "    EnvioCorreo()\n",
    "else:\n",
    "    time.sleep(2)\n",
    "    print('Ningun correo de reseteo')\n",
    "    BottonDesFiltrar = WebDriverWait(driver,10).until(\n",
    "    EC.presence_of_element_located((By.XPATH, '//*[@id=\"mailListFilterMenu\"]')) #\n",
    "    )\n",
    "    BottonDesFiltrar.click()\n",
    "  \n"
   ]
  },
  {
   "cell_type": "code",
   "execution_count": null,
   "metadata": {},
   "outputs": [],
   "source": []
  },
  {
   "cell_type": "code",
   "execution_count": 34,
   "metadata": {},
   "outputs": [],
   "source": [
    "def EnvioCorreo():\n",
    "    time.sleep(1)\n",
    "# Nuevo correo\n",
    "    newMail = WebDriverWait(driver, 10).until(\n",
    "        EC.presence_of_element_located((By.XPATH, \"//button[@aria-label='Correo nuevo']\"))\n",
    "    )\n",
    "    newMail.click()\n",
    "    time.sleep(2)\n",
    "\n",
    "    # Carga de correo\n",
    "    CargaCorreo = WebDriverWait(driver, 10).until(\n",
    "        EC.presence_of_element_located((By.XPATH, \"//div[@role='textbox' and @aria-label='Para']\"))\n",
    "    )\n",
    "    CargaCorreo.click()\n",
    "    CargaCorreo.send_keys(corre_text)\n",
    "\n",
    "    #Confirmacion de email\n",
    "    ConfirmacionCorreo= WebDriverWait(driver,10).until(\n",
    "        EC.element_to_be_clickable((By.ID, 'FloatingSuggestionsHeaderId2'))\n",
    "    )\n",
    "    time.sleep(2)\n",
    "    ConfirmacionCorreo.click()\n",
    "\n",
    "\n",
    "    ## Carga de asunto\n",
    "    CargaAsunto= WebDriverWait(driver,10).until(\n",
    "        EC.element_to_be_clickable((By.XPATH,'//*[@id=\"TextField320\"]'))\n",
    "\n",
    "    )\n",
    "    CargaAsunto.send_keys(\"Probando Selenium\")\n",
    "\n",
    "\n",
    "    ## Carga de texto\n",
    "    CargarTexto = WebDriverWait(driver, 10).until(\n",
    "        EC.element_to_be_clickable((By.XPATH, '//*[@id=\"editorParent_1\"]/div'))\n",
    "    )\n",
    "    CargarTexto.send_keys(\"Esto es una prueba\")\n",
    "    ## Enviar correo\n",
    "    BotonEnviar= WebDriverWait(driver,10).until(\n",
    "        EC.element_to_be_clickable((By.XPATH,'//*[@id=\"docking_InitVisiblePart_0\"]/div/div[2]/div[1]/div/span/button[1]'))\n",
    "    )\n",
    "    BotonEnviar.click()\n",
    "\n",
    "time.sleep(5)\n",
    "#driver.quit()\n"
   ]
  }
 ],
 "metadata": {
  "kernelspec": {
   "display_name": "env",
   "language": "python",
   "name": "python3"
  },
  "language_info": {
   "codemirror_mode": {
    "name": "ipython",
    "version": 3
   },
   "file_extension": ".py",
   "mimetype": "text/x-python",
   "name": "python",
   "nbconvert_exporter": "python",
   "pygments_lexer": "ipython3",
   "version": "3.11.9"
  },
  "orig_nbformat": 4
 },
 "nbformat": 4,
 "nbformat_minor": 2
}
