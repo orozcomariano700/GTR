{
 "cells": [
  {
   "cell_type": "code",
   "execution_count": null,
   "metadata": {},
   "outputs": [],
   "source": [
    "import pandas as pd"
   ]
  },
  {
   "cell_type": "code",
   "execution_count": 10,
   "metadata": {},
   "outputs": [
    {
     "name": "stdout",
     "output_type": "stream",
     "text": [
      "ymalaniu\n",
      "ymmalani\n",
      "ymalaniu\n",
      "El dominio a ingresar es:  ymalaniu\n"
     ]
    },
    {
     "name": "stderr",
     "output_type": "stream",
     "text": [
      "c:\\Users\\Usuario\\AppData\\Local\\Programs\\Python\\Python312\\Lib\\site-packages\\openpyxl\\worksheet\\_reader.py:329: UserWarning: Unknown extension is not supported and will be removed\n",
      "  warn(msg)\n"
     ]
    }
   ],
   "source": [
    "# llamamos a nuestro archivo de excel\n",
    "df = pd.read_excel(\"ConsultaAliados.xlsx\")\n",
    "\n",
    "# Creamos una variable que almacenara el correo\n",
    "correo = \"yesica.malaniuk@atp.gsolutions.com.ar\" \n",
    "\n",
    "\n",
    "#Filtramos segun correo electronico\n",
    "df_filtrado = df[df[\"correo\"] == correo]\n",
    "# print(df_filtrado)\n",
    "\n",
    "#Filtramos el valor de Tmoviles \n",
    "dfTmoviles = df_filtrado[\"Usuario Tmoviles\"].values[0]\n",
    "print(dfTmoviles)\n",
    "\n",
    "# Filtramos el valor de UsTasa\n",
    "dfTasa = df_filtrado[\"Usuario Tasa\"].values[0]\n",
    "print(dfTasa)\n",
    "\n",
    "#Filtramos el valor de T3\n",
    "dfT3= df_filtrado[\"Usuario T3\"].values[0]\n",
    "print(dfT3)\n",
    "\n",
    "\n",
    "# Condicionamos \n",
    "if dfT3 == dfTasa:\n",
    "    print(dfTasa)\n",
    "else:\n",
    "    print('El dominio a ingresar es: ',dfTmoviles)\n"
   ]
  }
 ],
 "metadata": {
  "kernelspec": {
   "display_name": "Python 3",
   "language": "python",
   "name": "python3"
  },
  "language_info": {
   "codemirror_mode": {
    "name": "ipython",
    "version": 3
   },
   "file_extension": ".py",
   "mimetype": "text/x-python",
   "name": "python",
   "nbconvert_exporter": "python",
   "pygments_lexer": "ipython3",
   "version": "3.12.5"
  }
 },
 "nbformat": 4,
 "nbformat_minor": 2
}
