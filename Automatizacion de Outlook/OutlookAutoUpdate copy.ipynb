{
 "cells": [
  {
   "cell_type": "code",
   "execution_count": 11,
   "metadata": {},
   "outputs": [],
   "source": [
    "'''\n",
    "import time\n",
    "from datetime import datetime\n",
    "from selenium import webdriver\n",
    "from selenium.webdriver.support import expected_conditions as EC\n",
    "from selenium.webdriver.common.by import By\n",
    "from selenium.webdriver.support.wait import WebDriverWait\n",
    "from selenium.webdriver.common.keys import Keys\n",
    "'''\n",
    "\n",
    "import time\n",
    "from selenium import webdriver\n",
    "from selenium.webdriver.common.by import By\n",
    "from selenium.webdriver.common.keys import Keys\n",
    "from selenium.webdriver.chrome.service import Service\n",
    "from selenium.webdriver.support.ui import WebDriverWait\n",
    "from selenium.webdriver.support import expected_conditions as EC\n",
    "import re\n",
    "import os\n"
   ]
  },
  {
   "cell_type": "code",
   "execution_count": 12,
   "metadata": {},
   "outputs": [],
   "source": [
    "def LimpiarPantalla():\n",
    "    sistema = os.name\n",
    "    if sistema == 'nt':  # Windows\n",
    "        os.system('cls')\n",
    "    else:  # Unix, Linux, macOS\n",
    "        os.system('clear')"
   ]
  },
  {
   "cell_type": "markdown",
   "metadata": {},
   "source": [
    "Configuaramos el driver"
   ]
  },
  {
   "cell_type": "code",
   "execution_count": 13,
   "metadata": {},
   "outputs": [
    {
     "name": "stderr",
     "output_type": "stream",
     "text": [
      "<>:1: SyntaxWarning: invalid escape sequence '\\c'\n",
      "<>:1: SyntaxWarning: invalid escape sequence '\\c'\n",
      "C:\\Users\\giuliano.colamaio\\AppData\\Local\\Temp\\ipykernel_8652\\1943617628.py:1: SyntaxWarning: invalid escape sequence '\\c'\n",
      "  '''\n"
     ]
    }
   ],
   "source": [
    "'''\n",
    "# Configurar las opciones de Chrome\n",
    "options = Options()\n",
    "options.add_argument(\"--start-maximized\")\n",
    "\n",
    "# Inicializar el WebDriver\n",
    "driver =  webdriver.Chrome(\"C:\\chromedriver.exe\", chrome_options= options)\n",
    "'''\n",
    "options = webdriver.ChromeOptions()\n",
    "options.add_argument(\"--start-maximized\")\n",
    "\n",
    "# Inicializar el WebDriver\n",
    "service = Service(\"C:/chromedriver.exe\")\n",
    "driver = webdriver.Chrome(service=service, options=options)\n"
   ]
  },
  {
   "cell_type": "markdown",
   "metadata": {},
   "source": [
    "Ingresamos a Outlook"
   ]
  },
  {
   "cell_type": "code",
   "execution_count": 14,
   "metadata": {},
   "outputs": [],
   "source": [
    "\n",
    "\n",
    "# Abrir Outlook Web App\n",
    "driver.get(\"https://outlook.office.com/mail/inbox/id/AAQkAGU4YTVjOWMyLWZkOGItNDA2MC04M2QxLWEzZDI5YzFmYjdjMQAQALM3bVzvydVIht%2F1Ee34lh4%3D\") \n",
    "\n",
    "\n",
    "# Esperar a que el campo de usuario esté disponible y enviar las credenciale\n",
    "WebDriverWait(driver,10).until(EC.element_to_be_clickable((By.XPATH,'//*[@id=\"i0116\"]'))).send_keys(\"enzo.orozco@atp.gsolutions.com.ar\")\n",
    "WebDriverWait(driver,10).until(EC.element_to_be_clickable((By.XPATH,'//*[@id=\"idSIButton9\"]'))).send_keys(Keys.ENTER)\n",
    "\n",
    "WebDriverWait(driver,10).until(EC.element_to_be_clickable((By.XPATH,'//*[@id=\"i0118\"]'))).send_keys(\"Mat27279\")\n",
    "WebDriverWait(driver,10).until(EC.element_to_be_clickable((By.XPATH,'//*[@id=\"i0118\"]'))).send_keys(Keys.ENTER)\n",
    "\n",
    "# Espera a que el boton este disponible y aprieta para continuar\n",
    "WebDriverWait(driver,10).until(EC.element_to_be_clickable((By.XPATH,'//*[@id=\"idSIButton9\"]'))).send_keys(Keys.ENTER)\n",
    "\n"
   ]
  },
  {
   "cell_type": "code",
   "execution_count": 15,
   "metadata": {},
   "outputs": [],
   "source": [
    "# Abrir una nueva pestaña\n",
    "driver.execute_script(\"window.open('');\")\n",
    "\n",
    "# Cambiar a la nueva pestaña\n",
    "driver.switch_to.window(driver.window_handles[-1])\n",
    "\n",
    "# Navegar a una URL en la nueva pestaña\n",
    "driver.get('https://docs.google.com/spreadsheets/d/1H9oOqRuE5ECUz5leB5r5dI63Ib-S8xOs/edit?gid=289589721#gid=289589721')\n",
    "\n",
    " # Coloca el gorreo para iniciar sesion\n",
    "InicioGmail = WebDriverWait(driver,10).until(\n",
    "    EC.presence_of_element_located((By.XPATH, \"//*[@id='identifierId']\"))\n",
    ")\n",
    "InicioGmail.send_keys('marianorozcogs@gmail.com')\n",
    "        \n",
    "# Le damos al boton continuar\n",
    "Continuar = WebDriverWait(driver,20).until(\n",
    "    EC.element_to_be_clickable((By.XPATH, '//span[@jsname=\"V67aGc\" and contains(@class, \"VfPpkd-vQzf8d\")]'))\n",
    ")\n",
    "time.sleep(0.5)\n",
    "driver.switch_to.window(driver.window_handles[0])\n",
    "Continuar.click()\n"
   ]
  },
  {
   "cell_type": "markdown",
   "metadata": {},
   "source": [
    "Abrimos Consulta aliados"
   ]
  },
  {
   "cell_type": "code",
   "execution_count": null,
   "metadata": {},
   "outputs": [],
   "source": [
    "def EnvioCorreo():\n",
    "    time.sleep(0.5)\n",
    "    # Respuesta de correo\n",
    "    Respuesta = WebDriverWait(driver, 10).until(\n",
    "        EC.element_to_be_clickable((By.ID,\"557\" ))\n",
    "    )\n",
    "    Respuesta.click()\n",
    "    time.sleep(0.5)\n",
    "    \n",
    "    ## Carga de texto\n",
    "    CargarTexto = WebDriverWait(driver, 10).until(\n",
    "        EC.element_to_be_clickable((By.XPATH, \"//div[@role='textbox' and @aria-label='Cuerpo del mensaje, presione Alt+F10 para salir']\"))\n",
    "    )\n",
    "    CargarTexto.send_keys(\"Buenaaass... Desde hace mas de un mes el reseteo de la claves es autogestionable. A continuacion te dejo un Power Point que facilitara tu gestion\\n\\n Atte: Equipo GTR\\n\")\n",
    "    time.sleep(0.5)\n",
    "    # Pegar Power Point en Cuerpo de msje \n",
    "    Adjuntararchivo= WebDriverWait(driver,10).until(\n",
    "        EC.element_to_be_clickable((By.XPATH, \"//div[@aria-label='Vincular']\"))\n",
    "    )\n",
    "    if Adjuntararchivo:\n",
    "        print('encontrado')\n",
    "        Adjuntararchivo.click()\n",
    "        time.sleep(1)\n",
    "        ComoMostrar = WebDriverWait(driver, 10).until(\n",
    "            EC.presence_of_element_located((By.ID, 'displayTextInput'))\n",
    "        )\n",
    "        time.sleep(2)\n",
    "        ComoMostrar.send_keys('Haz click aqui')\n",
    "        URL = WebDriverWait(driver, 20).until(\n",
    "            EC.presence_of_element_located((By.ID, \"linkInput\" ))\n",
    "        )\n",
    "        time.sleep(2)\n",
    "        URL.send_keys(\"https://atpgsolutions-my.sharepoint.com/:b:/g/personal/gtr_soporte_atp_gsolutions_com_ar/EcOHcLNrS3pEuH9ITOmDcv0By1Fp7G_pJ3SGnK537egVuQ\")\n",
    "        BotonAceptar = WebDriverWait(driver,10).until(\n",
    "            EC.element_to_be_clickable((By.ID, 'ok-1'))\n",
    "        )\n",
    "        time.sleep(2)\n",
    "        BotonAceptar.click()\n",
    "\n",
    "    ## Enviar correo\n",
    "    BotonEnviar= WebDriverWait(driver,10).until(\n",
    "        EC.presence_of_element_located((By.CSS_SELECTOR,\"button.ms-Button--primary[aria-label='Enviar'][title='Enviar (Ctrl+Entrar)']\"))\n",
    "    )\n",
    "    time.sleep(2)\n",
    "    BotonEnviar.click()\n",
    "    \n",
    "\n",
    "    ## Volver a bandeja de entrada\n",
    "    BottonDesFiltrar = WebDriverWait(driver,10).until(\n",
    "    EC.presence_of_element_located((By.XPATH, '//*[@id=\"mailListFilterMenu\"]')) #\n",
    "    )\n",
    "    BottonDesFiltrar.click()\n",
    "\n",
    "\n",
    "time.sleep(0.5)\n",
    "#driver.quit()\n"
   ]
  },
  {
   "cell_type": "code",
   "execution_count": null,
   "metadata": {},
   "outputs": [],
   "source": [
    "## Marcar como leido\n",
    "def MarcarLeido():\n",
    "    BottonFiltrar = WebDriverWait(driver,10).until(\n",
    "    EC.element_to_be_clickable((By.ID,\"mailListFilterMenu\"))\n",
    "    )\n",
    "    time.sleep(0.5)\n",
    "    BottonFiltrar.click()\n",
    "\n",
    "    #Boton no leido\n",
    "    BottonNoleido = WebDriverWait(driver, 10).until(\n",
    "        EC.presence_of_element_located((By.XPATH, \"//div[@role='menuitemradio' and @aria-checked='false' and .//span[text()='No leído']]\"))\n",
    "    )\n",
    "    time.sleep(0.5)\n",
    "    BottonNoleido.click()\n",
    "    \n",
    "    # Hacer click en correo\n",
    "    Correo = WebDriverWait(driver,10).until(\n",
    "                EC.element_to_be_clickable((By.CLASS_NAME, 'TtcXM'))\n",
    "    )\n",
    "    Correo.click()\n",
    "    # Apretar boton mas opciones \n",
    "    buttonMasOpciones =  WebDriverWait(driver, 10).until(\n",
    "        EC.presence_of_element_located((By.CSS_SELECTOR, \"button.ms-Button--commandBar[aria-label='Más acciones'][aria-haspopup='true']\"))\n",
    "    )\n",
    "    # Haz clic en el botón\n",
    "    time.sleep(0.5)\n",
    "    buttonMasOpciones.click()\n",
    "    \n",
    "    MarcarLeidoBoton = WebDriverWait(driver, 10).until(\n",
    "        EC.presence_of_element_located((By.XPATH, \"//span[text()='Marcar como leído']/ancestor::button\"))\n",
    "    )\n",
    "    if MarcarLeidoBoton:\n",
    "        print('Boton leido encontrado')\n",
    "        time.sleep(2)\n",
    "        MarcarLeidoBoton.click()\n",
    "    else:\n",
    "        print('No se encontro ningun boton')\n",
    "    \n",
    "    ## Desfiltrar \n",
    "    time.sleep(1)\n",
    "    BottonDesFiltrar = WebDriverWait(driver,10).until(\n",
    "    EC.presence_of_element_located((By.XPATH, '//*[@id=\"mailListFilterMenu\"]')) #\n",
    "    )\n",
    "    BottonDesFiltrar.click()\n",
    "    \n"
   ]
  },
  {
   "cell_type": "markdown",
   "metadata": {},
   "source": [
    "Conseguimos el correo electronico que nos permitira filtrar posteriormente"
   ]
  },
  {
   "cell_type": "code",
   "execution_count": null,
   "metadata": {},
   "outputs": [],
   "source": [
    "def ConseguirDominio():\n",
    "    try:\n",
    "        time.sleep(2)\n",
    "        DireccionCorreo = WebDriverWait(driver,10).until(\n",
    "            EC.presence_of_element_located((By. XPATH, \"//*[@data-lpc-hover-target-id='lpc-react-target-3']\"))\n",
    "        )\n",
    "        CorreoAEnviar = DireccionCorreo.text\n",
    "        correo_electronico = re.search(r'[\\w\\.-]+@[\\w\\.-]+', CorreoAEnviar)\n",
    "        corre_text = correo_electronico.group()\n",
    "        if corre_text:\n",
    "            print(f\"Correo electrónico extraído: {correo_electronico.group()}\")    \n",
    "        \n",
    "    except ValueError as V:\n",
    "        print(V)\n",
    "\n",
    "        \n"
   ]
  },
  {
   "cell_type": "code",
   "execution_count": null,
   "metadata": {},
   "outputs": [],
   "source": [
    "# Buscar en consulta aliados\n"
   ]
  },
  {
   "cell_type": "markdown",
   "metadata": {},
   "source": [
    "Analizamos la Bandeja de entrada "
   ]
  },
  {
   "cell_type": "code",
   "execution_count": null,
   "metadata": {},
   "outputs": [
    {
     "name": "stdout",
     "output_type": "stream",
     "text": [
      "Número de correos no leídos:  1\n",
      "Reseteo de claves\n",
      "Reseteo de claves = Reseteo de claves\n",
      "Correo electrónico extraído: marianorozcogs@gmail.com\n"
     ]
    },
    {
     "ename": "TimeoutException",
     "evalue": "Message: \n",
     "output_type": "error",
     "traceback": [
      "\u001b[1;31m---------------------------------------------------------------------------\u001b[0m",
      "\u001b[1;31mTimeoutException\u001b[0m                          Traceback (most recent call last)",
      "Cell \u001b[1;32mIn[36], line 50\u001b[0m\n\u001b[0;32m     46\u001b[0m     Correo \u001b[38;5;241m=\u001b[39m WebDriverWait(driver,\u001b[38;5;241m10\u001b[39m)\u001b[38;5;241m.\u001b[39muntil(\n\u001b[0;32m     47\u001b[0m         EC\u001b[38;5;241m.\u001b[39melement_to_be_clickable((By\u001b[38;5;241m.\u001b[39mCLASS_NAME, \u001b[38;5;124m'\u001b[39m\u001b[38;5;124mTtcXM\u001b[39m\u001b[38;5;124m'\u001b[39m))\n\u001b[0;32m     48\u001b[0m     )\n\u001b[0;32m     49\u001b[0m     Correo\u001b[38;5;241m.\u001b[39mclick()\n\u001b[1;32m---> 50\u001b[0m     \u001b[43mConseguirDominio\u001b[49m\u001b[43m(\u001b[49m\u001b[43m)\u001b[49m\n\u001b[0;32m     51\u001b[0m     \u001b[38;5;66;03m#EnvioCorreo()\u001b[39;00m\n\u001b[0;32m     52\u001b[0m     \u001b[38;5;66;03m#MarcarLeido()\u001b[39;00m\n\u001b[0;32m     53\u001b[0m \u001b[38;5;28;01melse\u001b[39;00m: \n\u001b[0;32m     54\u001b[0m     contador \u001b[38;5;241m=\u001b[39m contador \u001b[38;5;241m+\u001b[39m \u001b[38;5;241m1\u001b[39m\n",
      "Cell \u001b[1;32mIn[34], line 28\u001b[0m, in \u001b[0;36mConseguirDominio\u001b[1;34m()\u001b[0m\n\u001b[0;32m     25\u001b[0m InicioGmail\u001b[38;5;241m.\u001b[39msend_keys(\u001b[38;5;124m'\u001b[39m\u001b[38;5;124mmarianorozcogs@gmail.com\u001b[39m\u001b[38;5;124m'\u001b[39m)\n\u001b[0;32m     27\u001b[0m \u001b[38;5;66;03m# Le damos al boton continuar\u001b[39;00m\n\u001b[1;32m---> 28\u001b[0m Continuar \u001b[38;5;241m=\u001b[39m \u001b[43mWebDriverWait\u001b[49m\u001b[43m(\u001b[49m\u001b[43mdriver\u001b[49m\u001b[43m,\u001b[49m\u001b[38;5;241;43m20\u001b[39;49m\u001b[43m)\u001b[49m\u001b[38;5;241;43m.\u001b[39;49m\u001b[43muntil\u001b[49m\u001b[43m(\u001b[49m\n\u001b[0;32m     29\u001b[0m \u001b[43m    \u001b[49m\u001b[43mEC\u001b[49m\u001b[38;5;241;43m.\u001b[39;49m\u001b[43melement_to_be_clickable\u001b[49m\u001b[43m(\u001b[49m\u001b[43m(\u001b[49m\u001b[43mBy\u001b[49m\u001b[38;5;241;43m.\u001b[39;49m\u001b[43mXPATH\u001b[49m\u001b[43m,\u001b[49m\u001b[43m \u001b[49m\u001b[38;5;124;43m'\u001b[39;49m\u001b[38;5;124;43m//span[@jsname=\u001b[39;49m\u001b[38;5;124;43m\"\u001b[39;49m\u001b[38;5;124;43mV67aGc\u001b[39;49m\u001b[38;5;124;43m\"\u001b[39;49m\u001b[38;5;124;43m and contains(@class, \u001b[39;49m\u001b[38;5;124;43m\"\u001b[39;49m\u001b[38;5;124;43mVfPpkd-vQzf8d\u001b[39;49m\u001b[38;5;124;43m\"\u001b[39;49m\u001b[38;5;124;43m)]\u001b[39;49m\u001b[38;5;124;43m'\u001b[39;49m\u001b[43m)\u001b[49m\u001b[43m)\u001b[49m\n\u001b[0;32m     30\u001b[0m \u001b[43m\u001b[49m\u001b[43m)\u001b[49m\n\u001b[0;32m     31\u001b[0m time\u001b[38;5;241m.\u001b[39msleep(\u001b[38;5;241m1\u001b[39m)\n\u001b[0;32m     32\u001b[0m Continuar\u001b[38;5;241m.\u001b[39mclick()\n",
      "File \u001b[1;32mc:\\Users\\giuliano.colamaio\\AppData\\Local\\Programs\\Python\\Python312\\Lib\\site-packages\\selenium\\webdriver\\support\\wait.py:95\u001b[0m, in \u001b[0;36mWebDriverWait.until\u001b[1;34m(self, method, message)\u001b[0m\n\u001b[0;32m     93\u001b[0m     \u001b[38;5;28;01mif\u001b[39;00m time\u001b[38;5;241m.\u001b[39mmonotonic() \u001b[38;5;241m>\u001b[39m end_time:\n\u001b[0;32m     94\u001b[0m         \u001b[38;5;28;01mbreak\u001b[39;00m\n\u001b[1;32m---> 95\u001b[0m \u001b[38;5;28;01mraise\u001b[39;00m TimeoutException(message, screen, stacktrace)\n",
      "\u001b[1;31mTimeoutException\u001b[0m: Message: \n"
     ]
    }
   ],
   "source": [
    "while True:        \n",
    "\n",
    "    try:\n",
    "        LimpiarPantalla()\n",
    "        time.sleep(0.5)\n",
    "        BottonFiltrar = WebDriverWait(driver,10).until(\n",
    "            EC.element_to_be_clickable((By.ID,\"mailListFilterMenu\"))\n",
    "        )\n",
    "        time.sleep(0.5)\n",
    "        BottonFiltrar.click()\n",
    "        BottonNoleido = WebDriverWait(driver, 10).until(\n",
    "            EC.presence_of_element_located((By.XPATH, \"//div[@role='menuitemradio' and @aria-checked='false' and .//span[text()='No leído']]\"))\n",
    "            )\n",
    "        time.sleep(0.5)\n",
    "        BottonNoleido.click()\n",
    "        # Contar los correos no leidos  \n",
    "        WebDriverWait(driver, 10).until(\n",
    "            EC.presence_of_element_located((By.XPATH, '//div[@role=\"main\"]'))\n",
    "        )\n",
    "        time.sleep(0.5)\n",
    "        # Buscar correos no leídos \n",
    "        no_leidos = driver.find_elements(By.CLASS_NAME, 'S2NDX') #S2NDX\n",
    "        print(f'Número de correos no leídos: ', len(no_leidos))\n",
    "        cant_no_leidos = len(no_leidos)\n",
    "\n",
    "        # Condicionamos que la cantidad de correos se mayor a 0\n",
    "        if cant_no_leidos != 0:\n",
    "\n",
    "            # imprimir los asuntos de los correos no leídos\n",
    "            Asuntos_mail = driver.find_element(By.CLASS_NAME,'TtcXM').text\n",
    "            Asuntos_mail = str(Asuntos_mail)        \n",
    "            AsuntosCuenta = 'Reseteo de claves','Magento', 'T3', 'Reseteo','RESETEO', 'CAMBIO DE CLAVES', 'Solicitud cambio de claves', 'Reseteo claves', 'Herramientas', 'Reseteo de herramientas'\n",
    "            \n",
    "            # Creamos un contador para poder condicionar el for\n",
    "            contador = 0\n",
    "\n",
    "            # Comaracion entre los asuntos recibidos y la palabra clave reseteo\n",
    "            if Asuntos_mail:\n",
    "                print(Asuntos_mail)\n",
    "                for i in range(7): \n",
    "                    print(AsuntosCuenta[i], '=', Asuntos_mail)\n",
    "                    if Asuntos_mail == AsuntosCuenta[i]:\n",
    "                        time.sleep(0.5)\n",
    "\n",
    "                        # Cliqueamos el correo con el asunto que RESETEO\n",
    "                        Correo = WebDriverWait(driver,10).until(\n",
    "                            EC.element_to_be_clickable((By.CLASS_NAME, 'TtcXM'))\n",
    "                        )\n",
    "                        Correo.click()\n",
    "                        ConseguirDominio()\n",
    "                        #EnvioCorreo()\n",
    "                        #MarcarLeido()\n",
    "                    else: \n",
    "                        contador = contador + 1\n",
    "                        if contador == 7:\n",
    "                            BottonDesFiltrar = WebDriverWait(driver,10).until(\n",
    "                                EC.presence_of_element_located((By.XPATH, '//*[@id=\"mailListFilterMenu\"]')) \n",
    "                            )\n",
    "                            BottonDesFiltrar.click()\n",
    "\n",
    "            else:\n",
    "                time.sleep(2)\n",
    "                print('Ningun correo con asunto')\n",
    "                BottonDesFiltrar = WebDriverWait(driver,10).until(\n",
    "                EC.presence_of_element_located((By.XPATH, '//*[@id=\"mailListFilterMenu\"]')) \n",
    "                )\n",
    "                BottonDesFiltrar.click()\n",
    "        else:\n",
    "            time.sleep(2)\n",
    "            print('Ningun correo con asunto')\n",
    "            BottonDesFiltrar = WebDriverWait(driver,10).until(\n",
    "            EC.presence_of_element_located((By.XPATH, '//*[@id=\"mailListFilterMenu\"]')) \n",
    "            )\n",
    "            BottonDesFiltrar.click()\n",
    "    except BufferError as p :\n",
    "        print('Error', p)\n",
    "        break\n",
    "    time.sleep(120)\n",
    "\n",
    "        \n"
   ]
  },
  {
   "cell_type": "code",
   "execution_count": null,
   "metadata": {},
   "outputs": [],
   "source": []
  }
 ],
 "metadata": {
  "kernelspec": {
   "display_name": "env",
   "language": "python",
   "name": "python3"
  },
  "language_info": {
   "codemirror_mode": {
    "name": "ipython",
    "version": 3
   },
   "file_extension": ".py",
   "mimetype": "text/x-python",
   "name": "python",
   "nbconvert_exporter": "python",
   "pygments_lexer": "ipython3",
   "version": "3.12.4"
  },
  "orig_nbformat": 4
 },
 "nbformat": 4,
 "nbformat_minor": 2
}
